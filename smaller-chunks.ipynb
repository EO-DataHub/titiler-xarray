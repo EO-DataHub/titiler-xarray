{
 "cells": [
  {
   "cell_type": "code",
   "execution_count": 3,
   "id": "57bd321b-3cc5-4556-b47a-8b9779c09874",
   "metadata": {},
   "outputs": [
    {
     "name": "stderr",
     "output_type": "stream",
     "text": [
      "/Users/aimeebarciauskas/miniconda3/lib/python3.9/site-packages/pandas/core/computation/expressions.py:21: UserWarning: Pandas requires version '2.8.0' or newer of 'numexpr' (version '2.7.3' currently installed).\n",
      "  from pandas.core.computation.check import NUMEXPR_INSTALLED\n"
     ]
    }
   ],
   "source": [
    "#import diskcache\n",
    "import os\n",
    "import xarray\n",
    "import s3fs"
   ]
  },
  {
   "cell_type": "code",
   "execution_count": 4,
   "id": "772aa4e8-f4d3-443b-8fc8-206d67ff8de5",
   "metadata": {},
   "outputs": [],
   "source": [
    "# cache = dc.Cache(directory='./diskcache')\n",
    "# @cache.memoize(tag='diskcache_xarray_open_dataset')\n",
    "def xarray_open_dataset(src_path: str) -> xarray.Dataset:\n",
    "    \"\"\"Open dataset.\"\"\"\n",
    "    xr_open_args: Dict[str, Any] = {\n",
    "        \"decode_coords\": \"all\",\n",
    "        \"decode_times\": False,\n",
    "        \"chunks\": None,\n",
    "        \"engine\": \"h5netcdf\"\n",
    "    }\n",
    "    fs = s3fs.S3FileSystem()\n",
    "    file_handler = fs.open(src_path)\n",
    "    ds = xarray.open_dataset(file_handler, **xr_open_args)\n",
    "    return ds"
   ]
  },
  {
   "cell_type": "code",
   "execution_count": 5,
   "id": "cd3dc734-d8d0-4e4d-bc14-c79939a55591",
   "metadata": {},
   "outputs": [
    {
     "name": "stderr",
     "output_type": "stream",
     "text": [
      "/Users/aimeebarciauskas/miniconda3/lib/python3.9/site-packages/scipy/__init__.py:146: UserWarning: A NumPy version >=1.16.5 and <1.23.0 is required for this version of SciPy (detected version 1.25.2\n",
      "  warnings.warn(f\"A NumPy version >={np_minversion} and <{np_maxversion}\"\n"
     ]
    },
    {
     "name": "stdout",
     "output_type": "stream",
     "text": [
      "CPU times: user 988 ms, sys: 409 ms, total: 1.4 s\n",
      "Wall time: 2.68 s\n"
     ]
    }
   ],
   "source": [
    "%%time\n",
    "src_path = 's3://nasa-veda-scratch/cmip6-staging/prXin/ACCESS-CM2/prXin-ACCESS-CM2-ssp126.nc'\n",
    "ds1 = xarray_open_dataset(src_path)"
   ]
  },
  {
   "cell_type": "code",
   "execution_count": 6,
   "id": "08ad3a46-5fee-4f70-97ff-8b093d91fc1c",
   "metadata": {},
   "outputs": [
    {
     "name": "stdout",
     "output_type": "stream",
     "text": [
      "CPU times: user 1.67 s, sys: 318 ms, total: 1.98 s\n",
      "Wall time: 15.2 s\n"
     ]
    }
   ],
   "source": [
    "%%time\n",
    "src_path = 's3://veda-data-store-staging/rechunking/prXin-ACCESS-CM2-ssp126_compressed.nc'\n",
    "ds2 = xarray_open_dataset(src_path)"
   ]
  },
  {
   "cell_type": "code",
   "execution_count": null,
   "id": "9f1a25a5-b805-4117-ab66-fb24d9528f85",
   "metadata": {},
   "outputs": [],
   "source": [
    "%%time\n",
    "loaded1 = ds1.load()"
   ]
  },
  {
   "cell_type": "code",
   "execution_count": null,
   "id": "6e9e33ac-be39-4313-aa96-8fae630a13ad",
   "metadata": {},
   "outputs": [],
   "source": [
    "%%time\n",
    "loaded2 = ds2.load()"
   ]
  },
  {
   "cell_type": "code",
   "execution_count": null,
   "id": "da70e939-68a0-4fe0-8e4c-dcfda13583cc",
   "metadata": {},
   "outputs": [],
   "source": [
    "display_variable = 'prXin_1'\n",
    "ds_rechunked = ds1.chunk(chunks={'time': 1, 'lat': 600, 'lon': 1440})\n",
    "ds_rechunked[display_variable]"
   ]
  },
  {
   "cell_type": "code",
   "execution_count": null,
   "id": "039505f4-caea-4104-8189-b1341d4d43dd",
   "metadata": {},
   "outputs": [],
   "source": [
    "%%time\n",
    "target_file_name = \"prXin-ACCESS-CM2-ssp126_small_chunks_compressed.nc\"\n",
    "comp = dict(zlib=True, complevel=5)\n",
    "encoding = {var: comp for var in ds1.data_vars}\n",
    "loaded1.to_netcdf(target_file_name, encoding=encoding)"
   ]
  },
  {
   "cell_type": "code",
   "execution_count": null,
   "id": "c53baeaf-b7f5-43c5-8582-64c6a7ef51ab",
   "metadata": {},
   "outputs": [],
   "source": [
    "print(f\"Compressed netCDF size {os.path.getsize(target_file_name)/1000000} MB\")"
   ]
  },
  {
   "cell_type": "code",
   "execution_count": null,
   "id": "6e0f2722-8a1e-4562-8d0f-2cdc9f12ca4e",
   "metadata": {},
   "outputs": [],
   "source": [
    "fs = s3fs.S3FileSystem()\n",
    "new_target = f\"s3://nasa-veda-scratch/cmip6-staging/{target_file_name}\"\n",
    "fs.put(target_file_name, new_target)"
   ]
  },
  {
   "cell_type": "code",
   "execution_count": null,
   "id": "84ab8960-57e0-4350-aec1-84ffe8ee7650",
   "metadata": {},
   "outputs": [],
   "source": [
    "%%time\n",
    "ds3 = xarray_open_dataset(new_target)"
   ]
  },
  {
   "cell_type": "code",
   "execution_count": null,
   "id": "74d7e95f-70e9-4f45-b97f-ae18d8dbab41",
   "metadata": {},
   "outputs": [],
   "source": [
    "%%time\n",
    "ds3.load()"
   ]
  }
 ],
 "metadata": {
  "kernelspec": {
   "display_name": ".venv",
   "language": "python",
   "name": ".venv"
  },
  "language_info": {
   "codemirror_mode": {
    "name": "ipython",
    "version": 3
   },
   "file_extension": ".py",
   "mimetype": "text/x-python",
   "name": "python",
   "nbconvert_exporter": "python",
   "pygments_lexer": "ipython3",
   "version": "3.9.17"
  }
 },
 "nbformat": 4,
 "nbformat_minor": 5
}
