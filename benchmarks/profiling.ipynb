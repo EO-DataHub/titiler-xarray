{
 "cells": [
  {
   "cell_type": "code",
   "execution_count": 1,
   "id": "fe3b2e76",
   "metadata": {},
   "outputs": [],
   "source": [
    "from typing import Any\n",
    "from rio_tiler.io import XarrayReader\n",
    "from titiler.xarray.factory import xarray_open_dataset, update_dataset\n",
    "\n",
    "from profiler import profile"
   ]
  },
  {
   "cell_type": "code",
   "execution_count": 6,
   "id": "58d411cc",
   "metadata": {},
   "outputs": [],
   "source": [
    "import morecantile\n",
    "from rio_tiler.io import XarrayReader\n",
    "\n",
    "\n",
    "@profile(add_to_return=True, cprofile=True, quiet=True)\n",
    "def get_tile(src_path: str, x: int, y: int, z: int, *, variable: str, **kwargs: Any):\n",
    "\n",
    "    with xarray_open_dataset(\n",
    "        src_path,\n",
    "        z=z,\n",
    "        **kwargs,\n",
    "    ) as dataset:\n",
    "        \n",
    "        dataarray, _ = update_dataset(dataset, variable=variable)\n",
    "        \n",
    "        with XarrayReader(dataarray) as src_dst:\n",
    "            return src_dst.tile(x, y, z)\n",
    "    "
   ]
  },
  {
   "cell_type": "markdown",
   "id": "3a7aba89",
   "metadata": {},
   "source": [
    "\n",
    "s3://veda-data-store-staging/EIS/zarr/FWI-GEOS-5-Hourly (this is a protected data source but the titiler deployment I working with has access, configuring the domain name now...)\n",
    "\n",
    "s3://power-analysis-ready-datastore/power_901_monthly_meteorology_utc.zarr (publicly available, variable TS)\n",
    "\n",
    "s3://cmip6-pds/CMIP6/CMIP/NASA-GISS/GISS-E2-1-G/historical/r2i1p1f1/Amon/tas/gn/v20180827/ (publicly available, variable tas)"
   ]
  },
  {
   "cell_type": "code",
   "execution_count": 7,
   "id": "e75492e0",
   "metadata": {},
   "outputs": [],
   "source": [
    "_, logs = get_tile(\n",
    "    \"s3://power-analysis-ready-datastore/power_901_monthly_meteorology_utc.zarr\", \n",
    "    4, \n",
    "    4, \n",
    "    4, \n",
    "    variable=\"TS\",\n",
    ")"
   ]
  },
  {
   "cell_type": "code",
   "execution_count": 8,
   "id": "ca0a1933",
   "metadata": {},
   "outputs": [
    {
     "data": {
      "text/plain": [
       "{'GET': 52,\n",
       " 'Timing': 5.186955213546753,\n",
       " 'cprofile': ['   ncalls  tottime  percall  cumtime  percall filename:lineno(function)',\n",
       "  \"       40    4.844    0.121    4.844    0.121 {method 'acquire' of '_thread.lock' objects}\",\n",
       "  \"        1    0.027    0.027    0.028    0.028 {method 'start' of 'rasterio._env.GDALEnv' objects}\",\n",
       "  '        8    0.017    0.002    0.021    0.003 core.py:2142(_decode_chunk)',\n",
       "  '        1    0.015    0.015    0.015    0.015 {rasterio._warp._reproject}',\n",
       "  '      408    0.011    0.000    0.015    0.000 typing.py:1065(_get_protocol_attrs)',\n",
       "  '113732/112582    0.011    0.000    0.042    0.000 {built-in method builtins.isinstance}',\n",
       "  '2221/2189    0.010    0.000    0.014    0.000 indexing.py:512(shape)',\n",
       "  '        9    0.007    0.001    0.007    0.001 crs.py:183(__init__)',\n",
       "  '     2437    0.006    0.000    0.082    0.000 variable.py:194(as_compatible_data)',\n",
       "  '39365/33478    0.004    0.000    0.005    0.000 {built-in method builtins.len}']}"
      ]
     },
     "execution_count": 8,
     "metadata": {},
     "output_type": "execute_result"
    }
   ],
   "source": [
    "logs"
   ]
  },
  {
   "cell_type": "code",
   "execution_count": null,
   "id": "22efea90",
   "metadata": {},
   "outputs": [],
   "source": []
  }
 ],
 "metadata": {
  "kernelspec": {
   "display_name": "Python 3 (ipykernel)",
   "language": "python",
   "name": "python3"
  },
  "language_info": {
   "codemirror_mode": {
    "name": "ipython",
    "version": 3
   },
   "file_extension": ".py",
   "mimetype": "text/x-python",
   "name": "python",
   "nbconvert_exporter": "python",
   "pygments_lexer": "ipython3",
   "version": "3.9.13"
  }
 },
 "nbformat": 4,
 "nbformat_minor": 5
}
